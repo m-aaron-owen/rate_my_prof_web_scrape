{
 "cells": [
  {
   "cell_type": "markdown",
   "metadata": {},
   "source": [
    "# Pre-processing"
   ]
  },
  {
   "cell_type": "markdown",
   "metadata": {},
   "source": [
    "### Loading necessary packages"
   ]
  },
  {
   "cell_type": "code",
   "execution_count": 10,
   "metadata": {},
   "outputs": [],
   "source": [
    "import pandas as pd\n",
    "import numpy as np\n",
    "import seaborn as sns\n",
    "import re\n",
    "from bokeh.io import show, output_notebook\n",
    "from bokeh.plotting import figure\n",
    "import matplotlib.pyplot as plt\n",
    "%matplotlib inline"
   ]
  },
  {
   "cell_type": "markdown",
   "metadata": {},
   "source": [
    "### Loading each school"
   ]
  },
  {
   "cell_type": "code",
   "execution_count": null,
   "metadata": {
    "collapsed": true
   },
   "outputs": [],
   "source": [
    "man = pd.read_csv('manhattan_cc.csv')\n",
    "nas = pd.read_csv('nassau_cc.csv')\n",
    "lg = pd.read_csv('laguardia_cc.csv')\n",
    "qns = pd.read_csv('queensboro_cc.csv')\n",
    "king = pd.read_csv('kingsboro_cc.csv')"
   ]
  },
  {
   "cell_type": "markdown",
   "metadata": {},
   "source": [
    "### removing duplicated rows and then resetting the index"
   ]
  },
  {
   "cell_type": "code",
   "execution_count": 798,
   "metadata": {
    "collapsed": true
   },
   "outputs": [],
   "source": [
    "man = man.drop_duplicates().reset_index()\n",
    "nas = nas.drop_duplicates().reset_index()\n",
    "lg = lg.drop_duplicates().reset_index()\n",
    "qns = qns.drop_duplicates().reset_index()\n",
    "king = king.drop_duplicates().reset_index()"
   ]
  },
  {
   "cell_type": "markdown",
   "metadata": {},
   "source": [
    "### adding \"school\" column to each df"
   ]
  },
  {
   "cell_type": "code",
   "execution_count": 799,
   "metadata": {
    "collapsed": true
   },
   "outputs": [],
   "source": [
    "man[\"school\"] = \"man\"\n",
    "nas[\"school\"] = \"nas\"\n",
    "lg[\"school\"] = \"lg\"\n",
    "qns[\"school\"] = \"qns\"\n",
    "king[\"school\"] = \"king\""
   ]
  },
  {
   "cell_type": "markdown",
   "metadata": {},
   "source": [
    "### copying each df"
   ]
  },
  {
   "cell_type": "code",
   "execution_count": 801,
   "metadata": {
    "collapsed": true
   },
   "outputs": [],
   "source": [
    "man2 = man.copy()\n",
    "nas2 = nas.copy()\n",
    "lg2 = lg.copy()\n",
    "qns2 = qns.copy()\n",
    "king2 = king.copy()"
   ]
  },
  {
   "cell_type": "markdown",
   "metadata": {},
   "source": [
    "### appending all dfs"
   ]
  },
  {
   "cell_type": "code",
   "execution_count": 802,
   "metadata": {
    "collapsed": true
   },
   "outputs": [],
   "source": [
    "total = (((qns2.append(king2)).append(lg2)).append(nas2)).append(man2)"
   ]
  },
  {
   "cell_type": "markdown",
   "metadata": {},
   "source": [
    "### keeping only some rows, removing duplicates, resetting index"
   ]
  },
  {
   "cell_type": "code",
   "execution_count": 806,
   "metadata": {
    "collapsed": true
   },
   "outputs": [],
   "source": [
    "total = total[[\"name\", \"department\", \"overall_score\", \\\n",
    "               \"difficulty_score\", \"chili\", \"tag_list\", \"content\", \"school\"]].dropna().reset_index()"
   ]
  },
  {
   "cell_type": "code",
   "execution_count": 812,
   "metadata": {},
   "outputs": [
    {
     "data": {
      "text/plain": [
       "(48297, 9)"
      ]
     },
     "execution_count": 812,
     "metadata": {},
     "output_type": "execute_result"
    }
   ],
   "source": [
    "total.shape"
   ]
  },
  {
   "cell_type": "markdown",
   "metadata": {},
   "source": [
    "# Processing the data"
   ]
  },
  {
   "cell_type": "markdown",
   "metadata": {},
   "source": [
    "### reviews don't include information on sex, so I use the comments to determine"
   ]
  },
  {
   "cell_type": "markdown",
   "metadata": {},
   "source": [
    "#### creating a list of male and female pronouns"
   ]
  },
  {
   "cell_type": "code",
   "execution_count": null,
   "metadata": {
    "collapsed": true
   },
   "outputs": [],
   "source": [
    "male_words = [\"he\", \"him\", \"his\", \"he's\"]\n",
    "female_words = [\"she\", \"her\", \"hers\", \"she's\"]"
   ]
  },
  {
   "cell_type": "markdown",
   "metadata": {},
   "source": [
    "### Creating two new columns to the df: \n",
    "### 1) the num of male pronouns and 2) the num of female pronouns for each row\n",
    "* 1) copy data set\n",
    "* 2) create empty lists for number of male and female words\n",
    "* 3) iterating through each row the entire data set\n",
    "* 4) creating empty values used to enumerate number of male and female words for each row\n",
    "* 5) removing punctuation, changing all to lower case, making a list of all words\n",
    "* 6) iterating through all words of the list to and if\n",
    "* 7) it matches a word in ```male_words```, add 1 to ```male```\n",
    "* 8) it matches a word in ```female_words```, add 1 to ```female```\n",
    "* 9) add ```male``` and ```female``` to ```male_column_list``` and ```female_column_list```\n",
    "* 10) add each of these lists to the total df as new columns"
   ]
  },
  {
   "cell_type": "code",
   "execution_count": 807,
   "metadata": {
    "collapsed": true
   },
   "outputs": [],
   "source": [
    "total2 = total.copy() # 1\n",
    "male_column_list = [] # 2\n",
    "female_column_list = [] # 2\n",
    "for i in range(len(total2)): # 3\n",
    "    male = 0 # 4\n",
    "    female = 0 # 4\n",
    "    word_list = re.sub(r'[^\\w\\s]','', total2[\"content\"][i]).lower().split(\" \") # 5\n",
    "    for word in word_list: # 6\n",
    "        if word in male_words: #7\n",
    "            male += 1\n",
    "        if word in female_words: #8\n",
    "            female += 1\n",
    "    male_column_list.append(male) # 9\n",
    "    female_column_list.append(female)\n",
    "    \n",
    "total2[\"num_male_words\"] = male_column_list # 10\n",
    "total2[\"num_female_words\"] = female_column_list"
   ]
  },
  {
   "cell_type": "markdown",
   "metadata": {},
   "source": [
    "### Now we have the number of male and female pronoun names in each row, but we need to add them all up for each professor to see if there are more male or female pronouns\n",
    "* 1) grouping the data by professor name and school\n",
    "* 2) calculating the sum for male and female pronouns for each professor\n",
    "* 3) the groupby function changes the index, so here it is reset\n",
    "* 4) creating a new df of only the columns I want to merge back with the original data\n",
    "* 5) merging by name and school\n",
    "* 6) creating a new column, ```sex_diff```, determining the difference in ```male``` and ```female```\n",
    "* 7) based on the sign of ```sex_diff```, estimate the sex of the professor\n",
    "* 8) reorder columns (and drop some)"
   ]
  },
  {
   "cell_type": "code",
   "execution_count": 820,
   "metadata": {
    "collapsed": true
   },
   "outputs": [],
   "source": [
    "total2_group = total2.groupby([\"name\", \"school\"]) # 1\n",
    "total2_group = total2_group[\"num_male_words\", \"num_female_words\"].sum() # 2\n",
    "total2_group = total2_group.reset_index() # 3\n",
    "total3_group = total2_group[[\"name\", \"school\", \"num_male_words\", \"num_female_words\"]] # 4\n",
    "total_merge = pd.merge(total2, total3_group, how = \"left\", on = ('name', 'school'), suffixes = (\"\", \"_total\")) # 5\n",
    "total_merge[\"sex_diff\"] = total_merge[\"num_male_words_total\"] - total_merge[\"num_female_words_total\"] # 6\n",
    "total_merge[\"sex\"] = np.where(total_merge[\"sex_diff\"] > 0, \"male\", \"female\") # 7\n",
    "total_merge = total_merge[[\"name\", \"sex\", \"school\", \"department\", \"overall_score\", \\\n",
    "                           \"difficulty_score\", \"chili\", \"tag_list\", \"content\"]] # 8"
   ]
  },
  {
   "cell_type": "markdown",
   "metadata": {},
   "source": [
    "### the \"department\" column is too long and includes unnecessary info, so I replace the column with just the name of the department"
   ]
  },
  {
   "cell_type": "code",
   "execution_count": null,
   "metadata": {
    "collapsed": true
   },
   "outputs": [],
   "source": [
    "new = [] \n",
    "for i in range(len(total_merge)):\n",
    "    new.append(re.sub(r' department', \"\", re.sub(r'Professor in the ', \"\", total_merge[\"department\"][i])))\n",
    "total_merge[\"department\"] = new"
   ]
  },
  {
   "cell_type": "code",
   "execution_count": 868,
   "metadata": {},
   "outputs": [
    {
     "name": "stdout",
     "output_type": "stream",
     "text": [
      "(48297, 9)\n"
     ]
    },
    {
     "data": {
      "text/html": [
       "<div>\n",
       "<style>\n",
       "    .dataframe thead tr:only-child th {\n",
       "        text-align: right;\n",
       "    }\n",
       "\n",
       "    .dataframe thead th {\n",
       "        text-align: left;\n",
       "    }\n",
       "\n",
       "    .dataframe tbody tr th {\n",
       "        vertical-align: top;\n",
       "    }\n",
       "</style>\n",
       "<table border=\"1\" class=\"dataframe\">\n",
       "  <thead>\n",
       "    <tr style=\"text-align: right;\">\n",
       "      <th></th>\n",
       "      <th>name</th>\n",
       "      <th>sex</th>\n",
       "      <th>school</th>\n",
       "      <th>department</th>\n",
       "      <th>overall_score</th>\n",
       "      <th>difficulty_score</th>\n",
       "      <th>chili</th>\n",
       "      <th>tag_list</th>\n",
       "      <th>content</th>\n",
       "    </tr>\n",
       "  </thead>\n",
       "  <tbody>\n",
       "    <tr>\n",
       "      <th>0</th>\n",
       "      <td>Svoronos, Paris</td>\n",
       "      <td>male</td>\n",
       "      <td>qns</td>\n",
       "      <td>Chemistry</td>\n",
       "      <td>5.0</td>\n",
       "      <td>3.0</td>\n",
       "      <td>False</td>\n",
       "      <td>['RESPECTED', 'AMAZING LECTURES', 'TEST HEAVY']</td>\n",
       "      <td>Never seen a professor who gives a cumulative ...</td>\n",
       "    </tr>\n",
       "    <tr>\n",
       "      <th>1</th>\n",
       "      <td>Svoronos, Paris</td>\n",
       "      <td>male</td>\n",
       "      <td>qns</td>\n",
       "      <td>Chemistry</td>\n",
       "      <td>5.0</td>\n",
       "      <td>3.0</td>\n",
       "      <td>False</td>\n",
       "      <td>['ACCESSIBLE OUTSIDE CLASS', 'AMAZING LECTURES...</td>\n",
       "      <td>I have never found a professor of his caliber....</td>\n",
       "    </tr>\n",
       "    <tr>\n",
       "      <th>2</th>\n",
       "      <td>Svoronos, Paris</td>\n",
       "      <td>male</td>\n",
       "      <td>qns</td>\n",
       "      <td>Chemistry</td>\n",
       "      <td>3.0</td>\n",
       "      <td>4.0</td>\n",
       "      <td>False</td>\n",
       "      <td>['GRADED BY FEW THINGS', 'TEST HEAVY', 'LECTUR...</td>\n",
       "      <td>Personally did not like how he tries to downta...</td>\n",
       "    </tr>\n",
       "    <tr>\n",
       "      <th>3</th>\n",
       "      <td>Svoronos, Paris</td>\n",
       "      <td>male</td>\n",
       "      <td>qns</td>\n",
       "      <td>Chemistry</td>\n",
       "      <td>5.0</td>\n",
       "      <td>4.0</td>\n",
       "      <td>False</td>\n",
       "      <td>['ACCESSIBLE OUTSIDE CLASS', 'INSPIRATIONAL', ...</td>\n",
       "      <td>Nobody can provide applications of chemistry t...</td>\n",
       "    </tr>\n",
       "    <tr>\n",
       "      <th>4</th>\n",
       "      <td>Svoronos, Paris</td>\n",
       "      <td>male</td>\n",
       "      <td>qns</td>\n",
       "      <td>Chemistry</td>\n",
       "      <td>5.0</td>\n",
       "      <td>5.0</td>\n",
       "      <td>False</td>\n",
       "      <td>['PARTICIPATION MATTERS', \"SKIP CLASS? YOU WON...</td>\n",
       "      <td>The best</td>\n",
       "    </tr>\n",
       "  </tbody>\n",
       "</table>\n",
       "</div>"
      ],
      "text/plain": [
       "              name   sex school department  overall_score  difficulty_score  \\\n",
       "0  Svoronos, Paris  male    qns  Chemistry            5.0               3.0   \n",
       "1  Svoronos, Paris  male    qns  Chemistry            5.0               3.0   \n",
       "2  Svoronos, Paris  male    qns  Chemistry            3.0               4.0   \n",
       "3  Svoronos, Paris  male    qns  Chemistry            5.0               4.0   \n",
       "4  Svoronos, Paris  male    qns  Chemistry            5.0               5.0   \n",
       "\n",
       "   chili                                           tag_list  \\\n",
       "0  False    ['RESPECTED', 'AMAZING LECTURES', 'TEST HEAVY']   \n",
       "1  False  ['ACCESSIBLE OUTSIDE CLASS', 'AMAZING LECTURES...   \n",
       "2  False  ['GRADED BY FEW THINGS', 'TEST HEAVY', 'LECTUR...   \n",
       "3  False  ['ACCESSIBLE OUTSIDE CLASS', 'INSPIRATIONAL', ...   \n",
       "4  False  ['PARTICIPATION MATTERS', \"SKIP CLASS? YOU WON...   \n",
       "\n",
       "                                             content  \n",
       "0  Never seen a professor who gives a cumulative ...  \n",
       "1  I have never found a professor of his caliber....  \n",
       "2  Personally did not like how he tries to downta...  \n",
       "3  Nobody can provide applications of chemistry t...  \n",
       "4                                           The best  "
      ]
     },
     "execution_count": 868,
     "metadata": {},
     "output_type": "execute_result"
    }
   ],
   "source": [
    "print(total_merge.shape)\n",
    "total_merge.head()"
   ]
  },
  {
   "cell_type": "markdown",
   "metadata": {},
   "source": [
    "### Exporting the data as a csv, then reading it back in"
   ]
  },
  {
   "cell_type": "code",
   "execution_count": 822,
   "metadata": {
    "collapsed": true
   },
   "outputs": [],
   "source": [
    "total_merge.to_csv(\"profs.csv\")"
   ]
  },
  {
   "cell_type": "code",
   "execution_count": 2,
   "metadata": {},
   "outputs": [],
   "source": [
    "profs = pd.read_csv(\"profs.csv\", index_col = 0)"
   ]
  },
  {
   "cell_type": "code",
   "execution_count": 5,
   "metadata": {},
   "outputs": [
    {
     "data": {
      "text/html": [
       "<div>\n",
       "<style>\n",
       "    .dataframe thead tr:only-child th {\n",
       "        text-align: right;\n",
       "    }\n",
       "\n",
       "    .dataframe thead th {\n",
       "        text-align: left;\n",
       "    }\n",
       "\n",
       "    .dataframe tbody tr th {\n",
       "        vertical-align: top;\n",
       "    }\n",
       "</style>\n",
       "<table border=\"1\" class=\"dataframe\">\n",
       "  <thead>\n",
       "    <tr style=\"text-align: right;\">\n",
       "      <th></th>\n",
       "      <th>name</th>\n",
       "      <th>sex</th>\n",
       "      <th>school</th>\n",
       "      <th>department</th>\n",
       "      <th>overall_score</th>\n",
       "      <th>difficulty_score</th>\n",
       "      <th>chili</th>\n",
       "      <th>tag_list</th>\n",
       "      <th>content</th>\n",
       "    </tr>\n",
       "  </thead>\n",
       "  <tbody>\n",
       "    <tr>\n",
       "      <th>0</th>\n",
       "      <td>Svoronos, Paris</td>\n",
       "      <td>male</td>\n",
       "      <td>qns</td>\n",
       "      <td>Chemistry</td>\n",
       "      <td>5.0</td>\n",
       "      <td>3.0</td>\n",
       "      <td>False</td>\n",
       "      <td>['RESPECTED', 'AMAZING LECTURES', 'TEST HEAVY']</td>\n",
       "      <td>Never seen a professor who gives a cumulative ...</td>\n",
       "    </tr>\n",
       "    <tr>\n",
       "      <th>1</th>\n",
       "      <td>Svoronos, Paris</td>\n",
       "      <td>male</td>\n",
       "      <td>qns</td>\n",
       "      <td>Chemistry</td>\n",
       "      <td>5.0</td>\n",
       "      <td>3.0</td>\n",
       "      <td>False</td>\n",
       "      <td>['ACCESSIBLE OUTSIDE CLASS', 'AMAZING LECTURES...</td>\n",
       "      <td>I have never found a professor of his caliber....</td>\n",
       "    </tr>\n",
       "    <tr>\n",
       "      <th>2</th>\n",
       "      <td>Svoronos, Paris</td>\n",
       "      <td>male</td>\n",
       "      <td>qns</td>\n",
       "      <td>Chemistry</td>\n",
       "      <td>3.0</td>\n",
       "      <td>4.0</td>\n",
       "      <td>False</td>\n",
       "      <td>['GRADED BY FEW THINGS', 'TEST HEAVY', 'LECTUR...</td>\n",
       "      <td>Personally did not like how he tries to downta...</td>\n",
       "    </tr>\n",
       "    <tr>\n",
       "      <th>3</th>\n",
       "      <td>Svoronos, Paris</td>\n",
       "      <td>male</td>\n",
       "      <td>qns</td>\n",
       "      <td>Chemistry</td>\n",
       "      <td>5.0</td>\n",
       "      <td>4.0</td>\n",
       "      <td>False</td>\n",
       "      <td>['ACCESSIBLE OUTSIDE CLASS', 'INSPIRATIONAL', ...</td>\n",
       "      <td>Nobody can provide applications of chemistry t...</td>\n",
       "    </tr>\n",
       "    <tr>\n",
       "      <th>4</th>\n",
       "      <td>Svoronos, Paris</td>\n",
       "      <td>male</td>\n",
       "      <td>qns</td>\n",
       "      <td>Chemistry</td>\n",
       "      <td>5.0</td>\n",
       "      <td>5.0</td>\n",
       "      <td>False</td>\n",
       "      <td>['PARTICIPATION MATTERS', \"SKIP CLASS? YOU WON...</td>\n",
       "      <td>The best</td>\n",
       "    </tr>\n",
       "  </tbody>\n",
       "</table>\n",
       "</div>"
      ],
      "text/plain": [
       "              name   sex school department  overall_score  difficulty_score  \\\n",
       "0  Svoronos, Paris  male    qns  Chemistry            5.0               3.0   \n",
       "1  Svoronos, Paris  male    qns  Chemistry            5.0               3.0   \n",
       "2  Svoronos, Paris  male    qns  Chemistry            3.0               4.0   \n",
       "3  Svoronos, Paris  male    qns  Chemistry            5.0               4.0   \n",
       "4  Svoronos, Paris  male    qns  Chemistry            5.0               5.0   \n",
       "\n",
       "   chili                                           tag_list  \\\n",
       "0  False    ['RESPECTED', 'AMAZING LECTURES', 'TEST HEAVY']   \n",
       "1  False  ['ACCESSIBLE OUTSIDE CLASS', 'AMAZING LECTURES...   \n",
       "2  False  ['GRADED BY FEW THINGS', 'TEST HEAVY', 'LECTUR...   \n",
       "3  False  ['ACCESSIBLE OUTSIDE CLASS', 'INSPIRATIONAL', ...   \n",
       "4  False  ['PARTICIPATION MATTERS', \"SKIP CLASS? YOU WON...   \n",
       "\n",
       "                                             content  \n",
       "0  Never seen a professor who gives a cumulative ...  \n",
       "1  I have never found a professor of his caliber....  \n",
       "2  Personally did not like how he tries to downta...  \n",
       "3  Nobody can provide applications of chemistry t...  \n",
       "4                                           The best  "
      ]
     },
     "execution_count": 5,
     "metadata": {},
     "output_type": "execute_result"
    }
   ],
   "source": [
    "profs.head()"
   ]
  },
  {
   "cell_type": "markdown",
   "metadata": {},
   "source": [
    "### For each review, a reviewer can add up to 3 (out of 20) different \"tags\" describing the professor. Here I group the reviews by professor, then create a dictionary of the tags of each review for that professor,  then make each tag a column in the original data frame which shows how many of each of the 20 available tags each professor received"
   ]
  },
  {
   "cell_type": "markdown",
   "metadata": {},
   "source": [
    "* 1) group df by professor name\n",
    "* 2) create empty list for all tag dictionaries\n",
    "* 3) groupy objects behave similarly to dictionaries; name is the key, and the corresponding df is the value, so I iterate through all dfs grouped by professor name\n",
    "* 4) create empty list that will include all reviews' tags\n",
    "* 5) each review's tag list is scraped in as a string, and if a student did not add any tags, then a string of an empty list is left (i.e., ```\"[]\"```), so\n",
    "* 6) I remove all strings that only contain ```\"[]\"```\n",
    "* 7) and add all the remaining strings of tags ```tags```\n",
    "* 8) create empty string\n",
    "* 9) because each set of tags is a string, I concatenate all tags for a single prof into one string\n",
    "* 10) some tags are envoloped by single quotes ``` ' ``` and others in double quotes ``` \" ```; here I make everything to be single quotes\n",
    "* 11) replace all single quotes (which includes apostrophes) with nothing\n",
    "* 12) replace the two types of punctuation in the tags (``` . ``` and ``` ? ```) with nothing\n",
    "* 13) remove the final character of each string, which is ```]```\n",
    "* 14) replace all ```[``` with nothing\n",
    "* 15) replace all ```]``` with a comma and a space (to space all words) so that I can\n",
    "* 16) split all the words by the comma, creating a list of tags\n",
    "* 17) remove any whitespace from each tag in the list\n",
    "* 18) creating empty dictionary\n",
    "* 19) adding a the name of the professor to the key of the dictionary\n",
    "* 20) iterating through each tag of the list, and\n",
    "* 21) if it is already present in the dictionary, add 1, else add it to the dictionary\n",
    "* 22) add each professor's dictionary to the list of all dictionaries\n",
    "* 23) converting the list of dictionaries to a df\n",
    "* 24) merging the dictionary df back to the original df"
   ]
  },
  {
   "cell_type": "code",
   "execution_count": 160,
   "metadata": {},
   "outputs": [],
   "source": [
    "profs_group = profs.groupby(\"name\") # 1\n",
    "total_tag_list = [] # 2\n",
    "for key, values in profs_group: # 3\n",
    "    tags = [] # 4\n",
    "    for tag in values[\"tag_list\"]: # 5\n",
    "        if tag != \"[]\": # 6\n",
    "            tags.append(tag.lower().strip()) # 7\n",
    "\n",
    "    tags_total = \"\" # 8\n",
    "    for tag in tags: # 9\n",
    "        tags_total += tag\n",
    "\n",
    "    x = re.sub(r'\"', \"'\", tags_total) # 10\n",
    "    x = re.sub(r\"'\", \"\", x) # 11\n",
    "    x = re.sub('[.?]', \"\", x) # 12\n",
    "    x = x[:-1] # 13\n",
    "    x = x.replace(\"[\", \"\") # 14\n",
    "    x = x.replace(\"]\", \", \") # 15\n",
    "    x = x.split(\",\") # 16\n",
    "    x = [j.strip(\" \") for j in x] # 17\n",
    "\n",
    "    counts = dict() # 18\n",
    "    counts[\"name\"] = key # 19\n",
    "    for i in x: # 20\n",
    "        counts[i] = counts.get(i, 0) + 1 # 21    \n",
    "\n",
    "    total_tag_list.append(counts) # 22\n",
    "    \n",
    "tag_dict_df = pd.DataFrame(total_tag_list) # 23\n",
    "final = pd.merge(profs, tag_dict_df, how = \"left\", on = \"name\") # 24"
   ]
  },
  {
   "cell_type": "markdown",
   "metadata": {},
   "source": [
    "### Saving the dataset"
   ]
  },
  {
   "cell_type": "code",
   "execution_count": 163,
   "metadata": {},
   "outputs": [],
   "source": [
    "final.to_csv(\"profs.csv\")"
   ]
  },
  {
   "cell_type": "code",
   "execution_count": null,
   "metadata": {
    "collapsed": true
   },
   "outputs": [],
   "source": []
  },
  {
   "cell_type": "code",
   "execution_count": null,
   "metadata": {
    "collapsed": true
   },
   "outputs": [],
   "source": []
  },
  {
   "cell_type": "code",
   "execution_count": null,
   "metadata": {
    "collapsed": true
   },
   "outputs": [],
   "source": []
  },
  {
   "cell_type": "code",
   "execution_count": null,
   "metadata": {
    "collapsed": true
   },
   "outputs": [],
   "source": []
  },
  {
   "cell_type": "code",
   "execution_count": null,
   "metadata": {
    "collapsed": true
   },
   "outputs": [],
   "source": []
  },
  {
   "cell_type": "code",
   "execution_count": null,
   "metadata": {
    "collapsed": true
   },
   "outputs": [],
   "source": []
  },
  {
   "cell_type": "code",
   "execution_count": null,
   "metadata": {
    "collapsed": true
   },
   "outputs": [],
   "source": []
  },
  {
   "cell_type": "code",
   "execution_count": null,
   "metadata": {
    "collapsed": true
   },
   "outputs": [],
   "source": []
  },
  {
   "cell_type": "code",
   "execution_count": 162,
   "metadata": {},
   "outputs": [
    {
     "name": "stdout",
     "output_type": "stream",
     "text": [
      "['RESPECTED', 'AMAZING LECTURES', 'TEST HEAVY']['ACCESSIBLE OUTSIDE CLASS', 'AMAZING LECTURES', 'PARTICIPATION MATTERS']['GRADED BY FEW THINGS', 'TEST HEAVY', 'LECTURE HEAVY']['ACCESSIBLE OUTSIDE CLASS', 'INSPIRATIONAL', 'AMAZING LECTURES']['PARTICIPATION MATTERS', \"SKIP CLASS? YOU WON'T PASS.\", 'CARING']['LOTS OF HOMEWORK', 'CARING', \"SKIP CLASS? YOU WON'T PASS.\"]['PARTICIPATION MATTERS', 'RESPECTED', 'CARING'][\"SKIP CLASS? YOU WON'T PASS.\", 'LOTS OF HOMEWORK', 'TOUGH GRADER']['LOTS OF HOMEWORK', 'TOUGH GRADER', \"SKIP CLASS? YOU WON'T PASS.\"]['ACCESSIBLE OUTSIDE CLASS', 'CARING', 'PARTICIPATION MATTERS']['INSPIRATIONAL', 'PARTICIPATION MATTERS', 'CARING']['LOTS OF HOMEWORK', 'GET READY TO READ', 'TOUGH GRADER']['CARING', 'PARTICIPATION MATTERS', 'ACCESSIBLE OUTSIDE CLASS']['INSPIRATIONAL', 'RESPECTED', 'CARING']['PARTICIPATION MATTERS', 'LOTS OF HOMEWORK'][\"SKIP CLASS? YOU WON'T PASS.\", 'CARING', 'GIVES GOOD FEEDBACK']['RESPECTED', 'INSPIRATIONAL', 'CARING']['CARING', 'RESPECTED', 'ACCESSIBLE OUTSIDE CLASS']['CARING', 'INSPIRATIONAL', 'PARTICIPATION MATTERS']['ACCESSIBLE OUTSIDE CLASS', 'CARING', 'INSPIRATIONAL']['LECTURE HEAVY', 'HILARIOUS', \"SKIP CLASS? YOU WON'T PASS.\"]['INSPIRATIONAL', 'AMAZING LECTURES', 'CARING']['TOUGH GRADER', 'INSPIRATIONAL']['INSPIRATIONAL', 'RESPECTED', 'PARTICIPATION MATTERS']['INSPIRATIONAL', 'RESPECTED', 'CARING']['PARTICIPATION MATTERS', 'INSPIRATIONAL']['LOTS OF HOMEWORK', 'PARTICIPATION MATTERS', 'CARING']['CARING', 'INSPIRATIONAL', 'AMAZING LECTURES']['LECTURE HEAVY', 'TOUGH GRADER']['CARING', 'PARTICIPATION MATTERS', 'RESPECTED']\n"
     ]
    },
    {
     "data": {
      "text/plain": [
       "{'ACCESSIBLE OUTSIDE CLASS': 6,\n",
       " 'AMAZING LECTURES': 5,\n",
       " 'CARING': 17,\n",
       " 'GET READY TO READ': 1,\n",
       " 'GIVES GOOD FEEDBACK': 1,\n",
       " 'GRADED BY FEW THINGS': 1,\n",
       " 'HILARIOUS': 1,\n",
       " 'INSPIRATIONAL': 12,\n",
       " 'LECTURE HEAVY': 3,\n",
       " 'LOTS OF HOMEWORK': 6,\n",
       " 'PARTICIPATION MATTERS': 12,\n",
       " 'RESPECTED': 8,\n",
       " 'SKIP CLASS YOU WONT PASS': 6,\n",
       " 'TEST HEAVY': 2,\n",
       " 'TOUGH GRADER': 5}"
      ]
     },
     "execution_count": 162,
     "metadata": {},
     "output_type": "execute_result"
    }
   ],
   "source": [
    "svor = profs.loc[profs[\"name\"] == \"Svoronos, Paris\"]\n",
    "# svor = profs.loc[profs[\"name\"] == \"Misak, John\"]\n",
    "# len(svor)\n",
    "tags = \"\"\n",
    "for tag in svor[\"tag_list\"]:\n",
    "    if tag != \"[]\":\n",
    "        tags += tag\n",
    "            \n",
    "print(tags)\n",
    "\n",
    "tags_total = \"\"\n",
    "for tag in tags:\n",
    "    tags_total += tag\n",
    "    \n",
    "# tags_total\n",
    "\n",
    "# print(tags[4] + tags[5])\n",
    "# print(\"=\" * 40)\n",
    "x = re.sub(r'\"', \"'\", tags_total)\n",
    "# print(x)\n",
    "# print(\"=\" * 40)\n",
    "x = re.sub(r\"'\", \"\", x)\n",
    "# print(x)\n",
    "# print(\"=\" * 40)\n",
    "x = re.sub('[.?]', \"\", x)\n",
    "# print(x)\n",
    "# print(\"=\" * 40)\n",
    "x = x[1:-1]\n",
    "# print(x)\n",
    "# print(\"=\" * 40)\n",
    "x = x.replace(\"[\", \"\")\n",
    "x = x.replace(\"]\", \", \")\n",
    "# print(x)\n",
    "# print(\"=\" * 40)\n",
    "x = x.split(\",\")\n",
    "x = [j.strip(\" \") for j in x]\n",
    "counts = dict()\n",
    "for i in x:\n",
    "    counts[i] = counts.get(i, 0) + 1\n",
    "counts\n",
    "\n",
    "# profs.loc[profs[\"name\"] == \"Misak, John\"][\"tag_list\"]\n",
    "# [row for row in profs.loc[profs[\"name\"] == \"Misak, John\"][\"tag_list\"] if row != \"[]\"]\n",
    "# profs.loc[profs[\"name\"] == \"Misak, John\"][\"tag_list\"]"
   ]
  },
  {
   "cell_type": "code",
   "execution_count": 138,
   "metadata": {},
   "outputs": [
    {
     "data": {
      "text/plain": [
       "[\"['GIVES GOOD FEEDBACK', 'RESPECTED', 'HILARIOUS']\",\n",
       " \"['HILARIOUS', 'CARING', 'AMAZING LECTURES']\",\n",
       " \"['GET READY TO READ', 'INSPIRATIONAL', 'CARING']\",\n",
       " \"['EXTRA CREDIT', 'HILARIOUS']\",\n",
       " \"['AMAZING LECTURES']\",\n",
       " \"['RESPECTED', 'EXTRA CREDIT', 'AMAZING LECTURES']\",\n",
       " \"['CLEAR GRADING CRITERIA', 'LOTS OF HOMEWORK', 'AMAZING LECTURES']\",\n",
       " \"['PARTICIPATION MATTERS', 'EXTRA CREDIT', 'LOTS OF HOMEWORK']\",\n",
       " \"['AMAZING LECTURES', 'INSPIRATIONAL']\",\n",
       " \"['GIVES GOOD FEEDBACK', 'INSPIRATIONAL', 'RESPECTED']\",\n",
       " \"['GIVES GOOD FEEDBACK']\",\n",
       " \"['AMAZING LECTURES', 'HILARIOUS']\",\n",
       " \"['AMAZING LECTURES', 'PARTICIPATION MATTERS', 'GET READY TO READ']\",\n",
       " \"['INSPIRATIONAL', 'TOUGH GRADER', 'PARTICIPATION MATTERS']\"]"
      ]
     },
     "execution_count": 138,
     "metadata": {},
     "output_type": "execute_result"
    }
   ],
   "source": [
    "[row for row in profs.loc[profs[\"name\"] == \"Misak, John\"][\"tag_list\"] if row != \"[]\"]"
   ]
  },
  {
   "cell_type": "code",
   "execution_count": 11,
   "metadata": {},
   "outputs": [
    {
     "data": {
      "text/plain": [
       "([<matplotlib.axis.YTick at 0x10ffd8940>,\n",
       "  <matplotlib.axis.YTick at 0x10f911dd8>,\n",
       "  <matplotlib.axis.YTick at 0x10f8a1710>,\n",
       "  <matplotlib.axis.YTick at 0x10f4dcc88>,\n",
       "  <matplotlib.axis.YTick at 0x10f4e3400>,\n",
       "  <matplotlib.axis.YTick at 0x10f4e3b70>,\n",
       "  <matplotlib.axis.YTick at 0x10f4e7320>,\n",
       "  <matplotlib.axis.YTick at 0x10f4e7a90>,\n",
       "  <matplotlib.axis.YTick at 0x10f4ed240>,\n",
       "  <matplotlib.axis.YTick at 0x10f4ed9b0>,\n",
       "  <matplotlib.axis.YTick at 0x10f4f1160>,\n",
       "  <matplotlib.axis.YTick at 0x10f4f18d0>,\n",
       "  <matplotlib.axis.YTick at 0x10f4f6080>,\n",
       "  <matplotlib.axis.YTick at 0x10f4f67f0>,\n",
       "  <matplotlib.axis.YTick at 0x10f4f6f60>],\n",
       " <a list of 15 Text yticklabel objects>)"
      ]
     },
     "execution_count": 11,
     "metadata": {},
     "output_type": "execute_result"
    },
    {
     "data": {
      "image/png": "[encoded data removed]",
      "text/plain": [
       "<matplotlib.figure.Figure at 0x10f903128>"
      ]
     },
     "metadata": {},
     "output_type": "display_data"
    }
   ],
   "source": [
    "plt.barh(range(len(counts)), pd.Series(list(counts.values())).sort_values(), align='center')\n",
    "plt.yticks(range(len(counts)), list(counts.keys()))"
   ]
  },
  {
   "cell_type": "code",
   "execution_count": 660,
   "metadata": {},
   "outputs": [
    {
     "data": {
      "text/plain": [
       "LinregressResult(slope=-0.60276422526150231, intercept=5.0925720877248519, rvalue=-0.60724422798340605, pvalue=0.0, stderr=0.0035649571666542474)"
      ]
     },
     "execution_count": 660,
     "metadata": {},
     "output_type": "execute_result"
    }
   ],
   "source": [
    "from scipy.stats import linregress\n",
    "linregress(profs[\"overall_score\"], profs[\"difficulty_score\"])"
   ]
  },
  {
   "cell_type": "code",
   "execution_count": 27,
   "metadata": {
    "scrolled": true
   },
   "outputs": [
    {
     "data": {
      "image/png": "[encoded data removed]",
      "text/plain": [
       "<matplotlib.figure.Figure at 0x111b73c18>"
      ]
     },
     "metadata": {},
     "output_type": "display_data"
    }
   ],
   "source": [
    "plt.figure(figsize=(11,5))\n",
    "sns.stripplot(y=str('difficulty_score'), x=str('overall_score'), data=profs.loc[profs[\"department\"] == \"Mathematics\"], jitter=True)\n",
    "sns.despine()"
   ]
  },
  {
   "cell_type": "code",
   "execution_count": 663,
   "metadata": {},
   "outputs": [
    {
     "data": {
      "text/plain": [
       "<matplotlib.axes._subplots.AxesSubplot at 0x124b80dd8>"
      ]
     },
     "execution_count": 663,
     "metadata": {},
     "output_type": "execute_result"
    },
    {
     "data": {
      "image/png": "[encoded data removed]",
      "text/plain": [
       "<matplotlib.figure.Figure at 0x124db4320>"
      ]
     },
     "metadata": {},
     "output_type": "display_data"
    }
   ],
   "source": [
    "profs.plot.scatter(x = \"overall_score\", y= \"difficulty_score\")\n"
   ]
  },
  {
   "cell_type": "code",
   "execution_count": 662,
   "metadata": {
    "collapsed": true
   },
   "outputs": [],
   "source": [
    "%matplotlib inline\n",
    "from matplotlib import pyplot as plt\n",
    "import seaborn as sns"
   ]
  },
  {
   "cell_type": "code",
   "execution_count": null,
   "metadata": {
    "collapsed": true
   },
   "outputs": [],
   "source": []
  }
 ],
 "metadata": {
  "kernelspec": {
   "display_name": "Python 3",
   "language": "python",
   "name": "python3"
  },
  "language_info": {
   "codemirror_mode": {
    "name": "ipython",
    "version": 3
   },
   "file_extension": ".py",
   "mimetype": "text/x-python",
   "name": "python",
   "nbconvert_exporter": "python",
   "pygments_lexer": "ipython3",
   "version": "3.6.1"
  }
 },
 "nbformat": 4,
 "nbformat_minor": 2
}
