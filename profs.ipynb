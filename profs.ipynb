{
 "cells": [
  {
   "cell_type": "markdown",
   "metadata": {},
   "source": [
    "# Pre-processing"
   ]
  },
  {
   "cell_type": "markdown",
   "metadata": {},
   "source": [
    "### Loading necessary packages"
   ]
  },
  {
   "cell_type": "code",
   "execution_count": 1,
   "metadata": {
    "collapsed": true
   },
   "outputs": [],
   "source": [
    "import pandas as pd\n",
    "import numpy as np\n",
    "import re\n",
    "\n",
    "pd.set_option('display.max_rows', 50)\n",
    "pd.set_option('display.max_columns', 50)"
   ]
  },
  {
   "cell_type": "markdown",
   "metadata": {},
   "source": [
    "### Loading each school"
   ]
  },
  {
   "cell_type": "code",
   "execution_count": 2,
   "metadata": {
    "collapsed": true
   },
   "outputs": [],
   "source": [
    "man = pd.read_csv('manhattan_cc.csv')\n",
    "nas = pd.read_csv('nassau_cc.csv')\n",
    "lg = pd.read_csv('laguardia_cc.csv')\n",
    "qns = pd.read_csv('queensboro_cc.csv')\n",
    "king = pd.read_csv('kingsboro_cc.csv')"
   ]
  },
  {
   "cell_type": "markdown",
   "metadata": {},
   "source": [
    "### removing duplicated rows and then resetting the index"
   ]
  },
  {
   "cell_type": "code",
   "execution_count": 3,
   "metadata": {
    "collapsed": true
   },
   "outputs": [],
   "source": [
    "man = man.drop_duplicates().reset_index(drop = True)\n",
    "nas = nas.drop_duplicates().reset_index(drop = True)\n",
    "lg = lg.drop_duplicates().reset_index(drop = True)\n",
    "qns = qns.drop_duplicates().reset_index(drop = True)\n",
    "king = king.drop_duplicates().reset_index(drop = True)"
   ]
  },
  {
   "cell_type": "markdown",
   "metadata": {},
   "source": [
    "### adding \"school\" column to each df"
   ]
  },
  {
   "cell_type": "code",
   "execution_count": 4,
   "metadata": {
    "collapsed": true
   },
   "outputs": [],
   "source": [
    "man[\"school\"] = \"Borough of Manhattan CC\"\n",
    "nas[\"school\"] = \"Nassau CC\"\n",
    "lg[\"school\"] = \"LaGuardia CC\"\n",
    "qns[\"school\"] = \"Queensboro CC\"\n",
    "king[\"school\"] = \"Kingsboro CC\""
   ]
  },
  {
   "cell_type": "markdown",
   "metadata": {},
   "source": [
    "### copying each df"
   ]
  },
  {
   "cell_type": "code",
   "execution_count": 5,
   "metadata": {
    "collapsed": true
   },
   "outputs": [],
   "source": [
    "man2 = man.copy()\n",
    "nas2 = nas.copy()\n",
    "lg2 = lg.copy()\n",
    "qns2 = qns.copy()\n",
    "king2 = king.copy()"
   ]
  },
  {
   "cell_type": "markdown",
   "metadata": {},
   "source": [
    "### creating master df"
   ]
  },
  {
   "cell_type": "code",
   "execution_count": 6,
   "metadata": {},
   "outputs": [],
   "source": [
    "total = pd.concat([man2, nas2, lg2, qns2, king2])"
   ]
  },
  {
   "cell_type": "markdown",
   "metadata": {},
   "source": [
    "### keeping only some columns, removing duplicates, resetting index"
   ]
  },
  {
   "cell_type": "code",
   "execution_count": 7,
   "metadata": {
    "collapsed": true
   },
   "outputs": [],
   "source": [
    "total = total[[\"name\", \"department\", \"overall_score\", \\\n",
    "               \"difficulty_score\", \"chili\", \"tag_list\", \"content\", \"school\"]].dropna().reset_index(drop = True)"
   ]
  },
  {
   "cell_type": "markdown",
   "metadata": {},
   "source": [
    "# Processing the data"
   ]
  },
  {
   "cell_type": "markdown",
   "metadata": {},
   "source": [
    "### reviews don't include information on sex, so I use the comments to determine"
   ]
  },
  {
   "cell_type": "markdown",
   "metadata": {},
   "source": [
    "#### creating a list of male and female pronouns"
   ]
  },
  {
   "cell_type": "code",
   "execution_count": 8,
   "metadata": {
    "collapsed": true
   },
   "outputs": [],
   "source": [
    "male_words = [\"he\", \"him\", \"his\", \"he's\"]\n",
    "female_words = [\"she\", \"her\", \"hers\", \"she's\"]"
   ]
  },
  {
   "cell_type": "markdown",
   "metadata": {},
   "source": [
    "### Creating two new columns to the df: \n",
    "### 1) the num of male pronouns and 2) the num of female pronouns for each row\n",
    "* 1) copy data set\n",
    "* 2) create empty lists for number of male and female words\n",
    "* 3) iterating through each row the entire data set\n",
    "* 4) creating empty values used to enumerate number of male and female words for each row\n",
    "* 5) removing punctuation, changing all to lower case, making a list of all words\n",
    "* 6) iterating through all words of the list to and if\n",
    "* 7) it matches a word in ```male_words```, add 1 to ```male```\n",
    "* 8) it matches a word in ```female_words```, add 1 to ```female```\n",
    "* 9) add ```male``` and ```female``` to ```male_column_list``` and ```female_column_list```\n",
    "* 10) add each of these lists to the total df as new columns"
   ]
  },
  {
   "cell_type": "code",
   "execution_count": 9,
   "metadata": {
    "collapsed": true
   },
   "outputs": [],
   "source": [
    "total2 = total.copy() # 1\n",
    "male_column_list = [] # 2\n",
    "female_column_list = [] # 2\n",
    "for i in range(len(total2)): # 3\n",
    "    male = 0 # 4\n",
    "    female = 0 # 4\n",
    "    word_list = re.sub(r'[^\\w\\s]','', total2[\"content\"][i]).lower().split(\" \") # 5\n",
    "    for word in word_list: # 6\n",
    "        if word in male_words: #7\n",
    "            male += 1\n",
    "        if word in female_words: #8\n",
    "            female += 1\n",
    "    male_column_list.append(male) # 9\n",
    "    female_column_list.append(female)\n",
    "    \n",
    "total2[\"num_male_words\"] = male_column_list # 10\n",
    "total2[\"num_female_words\"] = female_column_list"
   ]
  },
  {
   "cell_type": "markdown",
   "metadata": {},
   "source": [
    "### Now we have the number of male and female pronoun names in each row, but we need to add them all up for each professor to see if there are more male or female pronouns\n",
    "* 1) grouping the data by professor name and school\n",
    "* 2) calculating the sum for male and female pronouns for each professor\n",
    "* 3) the groupby function changes the index, so here it is reset\n",
    "* 4) creating a new df of only the columns I want to merge back with the original data\n",
    "* 5) merging by name and school\n",
    "* 6) creating a new column, ```sex_diff```, determining the difference in ```male``` and ```female```\n",
    "* 7) based on the sign of ```sex_diff```, estimate the sex of the professor\n",
    "* 8) reorder columns (and drop some)"
   ]
  },
  {
   "cell_type": "code",
   "execution_count": 10,
   "metadata": {
    "collapsed": true
   },
   "outputs": [],
   "source": [
    "total2_group = total2.groupby([\"name\", \"school\"]) # 1\n",
    "total2_group = total2_group[\"num_male_words\", \"num_female_words\"].sum() # 2\n",
    "total2_group = total2_group.reset_index() # 3\n",
    "total3_group = total2_group[[\"name\", \"school\", \"num_male_words\", \"num_female_words\"]] # 4\n",
    "total_merge = pd.merge(total2, total3_group, how = \"left\", on = ('name', 'school'), suffixes = (\"\", \"_total\")) # 5\n",
    "total_merge[\"sex_diff\"] = total_merge[\"num_male_words_total\"] - total_merge[\"num_female_words_total\"] # 6\n",
    "total_merge[\"sex\"] = np.where(total_merge[\"sex_diff\"] > 0, \"male\", \"female\") # 7\n",
    "total_merge = total_merge[[\"name\", \"sex\", \"school\", \"department\", \"overall_score\", \\\n",
    "                           \"difficulty_score\", \"chili\", \"tag_list\", \"content\"]] # 8"
   ]
  },
  {
   "cell_type": "markdown",
   "metadata": {},
   "source": [
    "### the \"department\" column is too long and includes unnecessary info, so I replace the column with just the name of the department"
   ]
  },
  {
   "cell_type": "code",
   "execution_count": 11,
   "metadata": {},
   "outputs": [],
   "source": [
    "total_merge['department'] = total_merge['department'].replace({r' department': '', r'Professor in the ': ''}, regex = True)"
   ]
  },
  {
   "cell_type": "markdown",
   "metadata": {},
   "source": [
    "### different colleges name similar departments in different ways, or professors are teaching classes outside of their home department so here I concatenate similar departments and reassign professors to their departments"
   ]
  },
  {
   "cell_type": "code",
   "execution_count": 12,
   "metadata": {},
   "outputs": [],
   "source": [
    "total_merge.loc[total_merge['department'].str.contains('Biological'), 'department'] = 'Biology'\n",
    "total_merge.loc[total_merge['department'].str.contains('Business Te'), 'department'] = 'Business'\n",
    "total_merge.loc[total_merge['department'] == 'Science', 'department'] = 'Physical Sciences'\n",
    "total_merge.loc[total_merge['department'].str.contains('Theater|Speech'), 'department'] = 'Communication'\n",
    "total_merge.loc[total_merge['name'] == 'Greco, Joseph', 'department'] = 'Communication'\n",
    "total_merge.loc[total_merge['name'] == 'Sokolski, Patricia', 'department'] = 'Communication'\n",
    "total_merge.loc[total_merge['department'].str.contains('Allied'), 'department'] = 'Health Science'\n",
    "total_merge.loc[total_merge['department'].str.contains('Health & Physical Education|Physical Education'), 'department'] = 'Physical Ed'\n",
    "total_merge.loc[total_merge['department'].str.contains('Art'), 'department'] = 'Art'\n",
    "total_merge.loc[total_merge['department'].str.contains('Legal'), 'department'] = 'Law'\n",
    "total_merge.loc[total_merge['department'].str.contains('African|Ethnic|Women'), 'department'] = 'Cultural Studies'\n",
    "total_merge.loc[total_merge['department'].str.contains('Foreign|Spanish'), 'department'] = 'Languages'\n",
    "total_merge.loc[total_merge['department'].str.contains('Info'), 'department'] = 'Social Science'\n",
    "total_merge.loc[total_merge['name'] == 'Townsend, Charles', 'department'] = 'Social Science'\n",
    "total_merge.loc[total_merge['name'] == 'Ruiz, Roberto', 'department'] = 'Philosophy'\n",
    "total_merge.loc[total_merge['department'].str.contains('History|Political|Philosophy'), 'department'] = 'History, Philosophy, Poly Sci'"
   ]
  },
  {
   "cell_type": "markdown",
   "metadata": {},
   "source": [
    "### students can give professors a \"chili pepper\" icon to denote if they are attractive or not, here I create a new column adding whether the prof received a chili pepper"
   ]
  },
  {
   "cell_type": "code",
   "execution_count": 13,
   "metadata": {},
   "outputs": [],
   "source": [
    "total_merge['chili'] = np.where(total_merge['chili'] == True, 'attractive', 'not attractive')"
   ]
  },
  {
   "cell_type": "markdown",
   "metadata": {},
   "source": [
    "### For each review, a reviewer can add up to 3 (out of 20) different \"tags\" describing the professor. Here I group the reviews by professor, then create a dictionary of the tags of each review for that professor,  then make each tag a column in the original data frame which shows how many of each of the 20 available tags each professor received\n",
    "\n",
    "### the goal is to find the proportion of each tag type a professor received"
   ]
  },
  {
   "cell_type": "markdown",
   "metadata": {},
   "source": [
    "* 1) group df by professor name\n",
    "* 2) create empty list for all tag dictionaries\n",
    "* 3) groupy objects behave similarly to dictionaries; name is the key, and the corresponding df is the value, so I iterate through all dfs grouped by professor name\n",
    "* 4) create empty list that will include all reviews' tags\n",
    "* 5) each review's tag list is scraped in as a string, and if a student did not add any tags, then a string of an empty list is left (i.e., ```\"[]\"```), so\n",
    "* 6) I remove all strings that only contain ```\"[]\"```\n",
    "* 7) and add all the remaining strings of tags ```tags```\n",
    "* 8) create empty string\n",
    "* 9) because each set of tags is a string, I concatenate all tags for a single prof into one string\n",
    "* 10) some tags are envoloped by single quotes ``` ' ``` and others in double quotes ``` \" ```; here I make everything to be single quotes\n",
    "* 11) replace all single quotes (which includes apostrophes) with nothing\n",
    "* 12) replace the two types of punctuation in the tags (``` . ``` and ``` ? ```) with nothing\n",
    "* 13) remove the final character of each string, which is ```]```\n",
    "* 14) replace all ```[``` with nothing\n",
    "* 15) replace all ```]``` with a comma and a space (to space all words) so that I can\n",
    "* 16) split all the words by the comma, creating a list of tags\n",
    "* 17) remove any whitespace from each tag in the list\n",
    "* 18) creating empty dictionary\n",
    "* 19) adding a the name of the professor to the key of the dictionary\n",
    "* 20) iterating through each tag of the list, and\n",
    "* 21) if it is already present in the dictionary, add 1, else add it to the dictionary\n",
    "* 22) add each professor's dictionary to the list of all dictionaries\n",
    "* 23) converting the list of dictionaries to a df\n",
    "* 24) an empty column was created, so here I drop it\n",
    "* 25) merging the dictionary df back to the original df"
   ]
  },
  {
   "cell_type": "code",
   "execution_count": 14,
   "metadata": {},
   "outputs": [],
   "source": [
    "profs_group = total_merge.groupby(\"name\") # 1\n",
    "total_tag_list = [] # 2\n",
    "for key, values in profs_group: # 3\n",
    "    tags = [] # 4\n",
    "    for tag in values[\"tag_list\"]: # 5\n",
    "        if tag != \"[]\": # 6\n",
    "            tags.append(tag.title().strip()) # 7\n",
    "\n",
    "    tags_total = \"\" # 8\n",
    "    for tag in tags: # 9\n",
    "        tags_total += tag\n",
    "\n",
    "    x = re.sub(r'\"', \"'\", tags_total) # 10\n",
    "    x = re.sub(r\"'\", \"\", x) # 11\n",
    "    x = re.sub('[.?]', \"\", x) # 12\n",
    "    x = x[:-1] # 13\n",
    "    x = x.replace(\"[\", \"\") # 14\n",
    "    x = x.replace(\"]\", \", \") # 15\n",
    "    x = x.split(\",\") # 16\n",
    "    x = [j.strip(\" \") for j in x] # 17\n",
    "\n",
    "    counts = dict() # 18\n",
    "    counts[\"name\"] = key # 19\n",
    "    for i in x: # 20\n",
    "        counts[i] = counts.get(i, 0) + 1 # 21    \n",
    "\n",
    "    total_tag_list.append(counts) # 22\n",
    "    \n",
    "tag_dict_df = pd.DataFrame(total_tag_list) # 23\n",
    "tag_dict_df.drop('', axis = 1, inplace = True) # 24\n",
    "final = pd.merge(total_merge, tag_dict_df, how = \"left\", on = \"name\") # 25"
   ]
  },
  {
   "cell_type": "markdown",
   "metadata": {},
   "source": [
    "### counting the number of tags for each professor"
   ]
  },
  {
   "cell_type": "code",
   "execution_count": 15,
   "metadata": {},
   "outputs": [],
   "source": [
    "final['total_tags'] = final.iloc[:, 9:].sum(axis = 1)"
   ]
  },
  {
   "cell_type": "markdown",
   "metadata": {},
   "source": [
    "### aggregating tag proportions"
   ]
  },
  {
   "cell_type": "markdown",
   "metadata": {},
   "source": [
    "* 1) grouping by each professor, aggregating the mean scores, and reseting the index\n",
    "* 2) renaming the scores to reflect that they are means\n",
    "* 3) some professors received no tags, thus finding a proportion would result in a divide by zero error, so here I replace zeroes with ones\n",
    "* 4) creating a list of columns whose proportions need to be aggregated\n",
    "* 5) calculating the proportion of each tag"
   ]
  },
  {
   "cell_type": "code",
   "execution_count": 16,
   "metadata": {},
   "outputs": [],
   "source": [
    "grouped = final.groupby(['name', 'school', 'sex', 'department']).mean().reset_index() # 1\n",
    "\n",
    "grouped.rename(columns = {'overall_score':'overall_score_mean', \n",
    "                          'difficulty_score': 'difficulty_score_mean'}, inplace = True) # 2\n",
    "\n",
    "grouped.loc[grouped['total_tags'] == 0, 'total_tags'] = 1 # 3\n",
    "\n",
    "tag_names = grouped.columns[6:-1] # 4\n",
    "grouped[tag_names] = grouped[tag_names].apply(lambda x: x / grouped['total_tags'] * 100) # 5"
   ]
  },
  {
   "cell_type": "markdown",
   "metadata": {},
   "source": [
    "### Saving the datasets for use in the R Shiny app\n",
    "\n",
    "#### one data set with all reviews (where each professor's review is a different row)\n",
    "#### one data set where each row is a professor with his/her ratings and proportions aggregated"
   ]
  },
  {
   "cell_type": "code",
   "execution_count": 17,
   "metadata": {},
   "outputs": [
    {
     "data": {
      "text/html": [
       "<div>\n",
       "<style scoped>\n",
       "    .dataframe tbody tr th:only-of-type {\n",
       "        vertical-align: middle;\n",
       "    }\n",
       "\n",
       "    .dataframe tbody tr th {\n",
       "        vertical-align: top;\n",
       "    }\n",
       "\n",
       "    .dataframe thead th {\n",
       "        text-align: right;\n",
       "    }\n",
       "</style>\n",
       "<table border=\"1\" class=\"dataframe\">\n",
       "  <thead>\n",
       "    <tr style=\"text-align: right;\">\n",
       "      <th></th>\n",
       "      <th>name</th>\n",
       "      <th>sex</th>\n",
       "      <th>school</th>\n",
       "      <th>department</th>\n",
       "      <th>overall_score</th>\n",
       "      <th>difficulty_score</th>\n",
       "      <th>chili</th>\n",
       "      <th>tag_list</th>\n",
       "      <th>content</th>\n",
       "      <th>Accessible Outside Class</th>\n",
       "      <th>Amazing Lectures</th>\n",
       "      <th>Beware Of Pop Quizzes</th>\n",
       "      <th>Caring</th>\n",
       "      <th>Clear Grading Criteria</th>\n",
       "      <th>Extra Credit</th>\n",
       "      <th>Get Ready To Read</th>\n",
       "      <th>Gives Good Feedback</th>\n",
       "      <th>Graded By Few Things</th>\n",
       "      <th>Group Projects</th>\n",
       "      <th>Hilarious</th>\n",
       "      <th>Inspirational</th>\n",
       "      <th>Lecture Heavy</th>\n",
       "      <th>Lots Of Homework</th>\n",
       "      <th>Participation Matters</th>\n",
       "      <th>Respected</th>\n",
       "      <th>Skip Class You WonT Pass</th>\n",
       "      <th>So Many Papers</th>\n",
       "      <th>Test Heavy</th>\n",
       "      <th>Tough Grader</th>\n",
       "      <th>total_tags</th>\n",
       "    </tr>\n",
       "  </thead>\n",
       "  <tbody>\n",
       "    <tr>\n",
       "      <th>0</th>\n",
       "      <td>Beran, Andrew</td>\n",
       "      <td>male</td>\n",
       "      <td>Borough of Manhattan CC</td>\n",
       "      <td>Mathematics</td>\n",
       "      <td>5.0</td>\n",
       "      <td>2.0</td>\n",
       "      <td>attractive</td>\n",
       "      <td>['AMAZING LECTURES', 'RESPECTED', 'CLEAR GRADI...</td>\n",
       "      <td>Best professor ever, I do not usually write re...</td>\n",
       "      <td>NaN</td>\n",
       "      <td>42.0</td>\n",
       "      <td>7.0</td>\n",
       "      <td>38.0</td>\n",
       "      <td>50.0</td>\n",
       "      <td>NaN</td>\n",
       "      <td>1.0</td>\n",
       "      <td>17.0</td>\n",
       "      <td>3.0</td>\n",
       "      <td>NaN</td>\n",
       "      <td>82.0</td>\n",
       "      <td>32.0</td>\n",
       "      <td>NaN</td>\n",
       "      <td>NaN</td>\n",
       "      <td>3.0</td>\n",
       "      <td>60.0</td>\n",
       "      <td>19.0</td>\n",
       "      <td>NaN</td>\n",
       "      <td>NaN</td>\n",
       "      <td>2.0</td>\n",
       "      <td>356.0</td>\n",
       "    </tr>\n",
       "    <tr>\n",
       "      <th>1</th>\n",
       "      <td>Beran, Andrew</td>\n",
       "      <td>male</td>\n",
       "      <td>Borough of Manhattan CC</td>\n",
       "      <td>Mathematics</td>\n",
       "      <td>5.0</td>\n",
       "      <td>2.0</td>\n",
       "      <td>attractive</td>\n",
       "      <td>['HILARIOUS', 'INSPIRATIONAL', 'CARING']</td>\n",
       "      <td>Professor Beran is the most amazing math teach...</td>\n",
       "      <td>NaN</td>\n",
       "      <td>42.0</td>\n",
       "      <td>7.0</td>\n",
       "      <td>38.0</td>\n",
       "      <td>50.0</td>\n",
       "      <td>NaN</td>\n",
       "      <td>1.0</td>\n",
       "      <td>17.0</td>\n",
       "      <td>3.0</td>\n",
       "      <td>NaN</td>\n",
       "      <td>82.0</td>\n",
       "      <td>32.0</td>\n",
       "      <td>NaN</td>\n",
       "      <td>NaN</td>\n",
       "      <td>3.0</td>\n",
       "      <td>60.0</td>\n",
       "      <td>19.0</td>\n",
       "      <td>NaN</td>\n",
       "      <td>NaN</td>\n",
       "      <td>2.0</td>\n",
       "      <td>356.0</td>\n",
       "    </tr>\n",
       "    <tr>\n",
       "      <th>2</th>\n",
       "      <td>Beran, Andrew</td>\n",
       "      <td>male</td>\n",
       "      <td>Borough of Manhattan CC</td>\n",
       "      <td>Mathematics</td>\n",
       "      <td>5.0</td>\n",
       "      <td>1.0</td>\n",
       "      <td>attractive</td>\n",
       "      <td>[\"SKIP CLASS? YOU WON'T PASS.\", 'HILARIOUS', '...</td>\n",
       "      <td>THE BERANSTER is alive! Professor Beran is ver...</td>\n",
       "      <td>NaN</td>\n",
       "      <td>42.0</td>\n",
       "      <td>7.0</td>\n",
       "      <td>38.0</td>\n",
       "      <td>50.0</td>\n",
       "      <td>NaN</td>\n",
       "      <td>1.0</td>\n",
       "      <td>17.0</td>\n",
       "      <td>3.0</td>\n",
       "      <td>NaN</td>\n",
       "      <td>82.0</td>\n",
       "      <td>32.0</td>\n",
       "      <td>NaN</td>\n",
       "      <td>NaN</td>\n",
       "      <td>3.0</td>\n",
       "      <td>60.0</td>\n",
       "      <td>19.0</td>\n",
       "      <td>NaN</td>\n",
       "      <td>NaN</td>\n",
       "      <td>2.0</td>\n",
       "      <td>356.0</td>\n",
       "    </tr>\n",
       "    <tr>\n",
       "      <th>3</th>\n",
       "      <td>Beran, Andrew</td>\n",
       "      <td>male</td>\n",
       "      <td>Borough of Manhattan CC</td>\n",
       "      <td>Mathematics</td>\n",
       "      <td>4.0</td>\n",
       "      <td>2.0</td>\n",
       "      <td>attractive</td>\n",
       "      <td>[]</td>\n",
       "      <td>professor beran is an amazing professor he exp...</td>\n",
       "      <td>NaN</td>\n",
       "      <td>42.0</td>\n",
       "      <td>7.0</td>\n",
       "      <td>38.0</td>\n",
       "      <td>50.0</td>\n",
       "      <td>NaN</td>\n",
       "      <td>1.0</td>\n",
       "      <td>17.0</td>\n",
       "      <td>3.0</td>\n",
       "      <td>NaN</td>\n",
       "      <td>82.0</td>\n",
       "      <td>32.0</td>\n",
       "      <td>NaN</td>\n",
       "      <td>NaN</td>\n",
       "      <td>3.0</td>\n",
       "      <td>60.0</td>\n",
       "      <td>19.0</td>\n",
       "      <td>NaN</td>\n",
       "      <td>NaN</td>\n",
       "      <td>2.0</td>\n",
       "      <td>356.0</td>\n",
       "    </tr>\n",
       "    <tr>\n",
       "      <th>4</th>\n",
       "      <td>Beran, Andrew</td>\n",
       "      <td>male</td>\n",
       "      <td>Borough of Manhattan CC</td>\n",
       "      <td>Mathematics</td>\n",
       "      <td>5.0</td>\n",
       "      <td>3.0</td>\n",
       "      <td>attractive</td>\n",
       "      <td>['GIVES GOOD FEEDBACK', 'RESPECTED', 'CLEAR GR...</td>\n",
       "      <td>Professor Andrew is a very talented man. You c...</td>\n",
       "      <td>NaN</td>\n",
       "      <td>42.0</td>\n",
       "      <td>7.0</td>\n",
       "      <td>38.0</td>\n",
       "      <td>50.0</td>\n",
       "      <td>NaN</td>\n",
       "      <td>1.0</td>\n",
       "      <td>17.0</td>\n",
       "      <td>3.0</td>\n",
       "      <td>NaN</td>\n",
       "      <td>82.0</td>\n",
       "      <td>32.0</td>\n",
       "      <td>NaN</td>\n",
       "      <td>NaN</td>\n",
       "      <td>3.0</td>\n",
       "      <td>60.0</td>\n",
       "      <td>19.0</td>\n",
       "      <td>NaN</td>\n",
       "      <td>NaN</td>\n",
       "      <td>2.0</td>\n",
       "      <td>356.0</td>\n",
       "    </tr>\n",
       "  </tbody>\n",
       "</table>\n",
       "</div>"
      ],
      "text/plain": [
       "            name   sex                   school   department  overall_score  \\\n",
       "0  Beran, Andrew  male  Borough of Manhattan CC  Mathematics            5.0   \n",
       "1  Beran, Andrew  male  Borough of Manhattan CC  Mathematics            5.0   \n",
       "2  Beran, Andrew  male  Borough of Manhattan CC  Mathematics            5.0   \n",
       "3  Beran, Andrew  male  Borough of Manhattan CC  Mathematics            4.0   \n",
       "4  Beran, Andrew  male  Borough of Manhattan CC  Mathematics            5.0   \n",
       "\n",
       "   difficulty_score       chili  \\\n",
       "0               2.0  attractive   \n",
       "1               2.0  attractive   \n",
       "2               1.0  attractive   \n",
       "3               2.0  attractive   \n",
       "4               3.0  attractive   \n",
       "\n",
       "                                            tag_list  \\\n",
       "0  ['AMAZING LECTURES', 'RESPECTED', 'CLEAR GRADI...   \n",
       "1           ['HILARIOUS', 'INSPIRATIONAL', 'CARING']   \n",
       "2  [\"SKIP CLASS? YOU WON'T PASS.\", 'HILARIOUS', '...   \n",
       "3                                                 []   \n",
       "4  ['GIVES GOOD FEEDBACK', 'RESPECTED', 'CLEAR GR...   \n",
       "\n",
       "                                             content  \\\n",
       "0  Best professor ever, I do not usually write re...   \n",
       "1  Professor Beran is the most amazing math teach...   \n",
       "2  THE BERANSTER is alive! Professor Beran is ver...   \n",
       "3  professor beran is an amazing professor he exp...   \n",
       "4  Professor Andrew is a very talented man. You c...   \n",
       "\n",
       "   Accessible Outside Class  Amazing Lectures  Beware Of Pop Quizzes  Caring  \\\n",
       "0                       NaN              42.0                    7.0    38.0   \n",
       "1                       NaN              42.0                    7.0    38.0   \n",
       "2                       NaN              42.0                    7.0    38.0   \n",
       "3                       NaN              42.0                    7.0    38.0   \n",
       "4                       NaN              42.0                    7.0    38.0   \n",
       "\n",
       "   Clear Grading Criteria  Extra Credit  Get Ready To Read  \\\n",
       "0                    50.0           NaN                1.0   \n",
       "1                    50.0           NaN                1.0   \n",
       "2                    50.0           NaN                1.0   \n",
       "3                    50.0           NaN                1.0   \n",
       "4                    50.0           NaN                1.0   \n",
       "\n",
       "   Gives Good Feedback  Graded By Few Things  Group Projects  Hilarious  \\\n",
       "0                 17.0                   3.0             NaN       82.0   \n",
       "1                 17.0                   3.0             NaN       82.0   \n",
       "2                 17.0                   3.0             NaN       82.0   \n",
       "3                 17.0                   3.0             NaN       82.0   \n",
       "4                 17.0                   3.0             NaN       82.0   \n",
       "\n",
       "   Inspirational  Lecture Heavy  Lots Of Homework  Participation Matters  \\\n",
       "0           32.0            NaN               NaN                    3.0   \n",
       "1           32.0            NaN               NaN                    3.0   \n",
       "2           32.0            NaN               NaN                    3.0   \n",
       "3           32.0            NaN               NaN                    3.0   \n",
       "4           32.0            NaN               NaN                    3.0   \n",
       "\n",
       "   Respected  Skip Class You WonT Pass  So Many Papers  Test Heavy  \\\n",
       "0       60.0                      19.0             NaN         NaN   \n",
       "1       60.0                      19.0             NaN         NaN   \n",
       "2       60.0                      19.0             NaN         NaN   \n",
       "3       60.0                      19.0             NaN         NaN   \n",
       "4       60.0                      19.0             NaN         NaN   \n",
       "\n",
       "   Tough Grader  total_tags  \n",
       "0           2.0       356.0  \n",
       "1           2.0       356.0  \n",
       "2           2.0       356.0  \n",
       "3           2.0       356.0  \n",
       "4           2.0       356.0  "
      ]
     },
     "execution_count": 17,
     "metadata": {},
     "output_type": "execute_result"
    }
   ],
   "source": [
    "final.head()"
   ]
  },
  {
   "cell_type": "code",
   "execution_count": 18,
   "metadata": {},
   "outputs": [
    {
     "data": {
      "text/html": [
       "<div>\n",
       "<style scoped>\n",
       "    .dataframe tbody tr th:only-of-type {\n",
       "        vertical-align: middle;\n",
       "    }\n",
       "\n",
       "    .dataframe tbody tr th {\n",
       "        vertical-align: top;\n",
       "    }\n",
       "\n",
       "    .dataframe thead th {\n",
       "        text-align: right;\n",
       "    }\n",
       "</style>\n",
       "<table border=\"1\" class=\"dataframe\">\n",
       "  <thead>\n",
       "    <tr style=\"text-align: right;\">\n",
       "      <th></th>\n",
       "      <th>name</th>\n",
       "      <th>school</th>\n",
       "      <th>sex</th>\n",
       "      <th>department</th>\n",
       "      <th>overall_score_mean</th>\n",
       "      <th>difficulty_score_mean</th>\n",
       "      <th>Accessible Outside Class</th>\n",
       "      <th>Amazing Lectures</th>\n",
       "      <th>Beware Of Pop Quizzes</th>\n",
       "      <th>Caring</th>\n",
       "      <th>Clear Grading Criteria</th>\n",
       "      <th>Extra Credit</th>\n",
       "      <th>Get Ready To Read</th>\n",
       "      <th>Gives Good Feedback</th>\n",
       "      <th>Graded By Few Things</th>\n",
       "      <th>Group Projects</th>\n",
       "      <th>Hilarious</th>\n",
       "      <th>Inspirational</th>\n",
       "      <th>Lecture Heavy</th>\n",
       "      <th>Lots Of Homework</th>\n",
       "      <th>Participation Matters</th>\n",
       "      <th>Respected</th>\n",
       "      <th>Skip Class You WonT Pass</th>\n",
       "      <th>So Many Papers</th>\n",
       "      <th>Test Heavy</th>\n",
       "      <th>Tough Grader</th>\n",
       "      <th>total_tags</th>\n",
       "    </tr>\n",
       "  </thead>\n",
       "  <tbody>\n",
       "    <tr>\n",
       "      <th>0</th>\n",
       "      <td>Abdoo, Sherlyn</td>\n",
       "      <td>LaGuardia CC</td>\n",
       "      <td>female</td>\n",
       "      <td>English</td>\n",
       "      <td>2.564815</td>\n",
       "      <td>4.444444</td>\n",
       "      <td>NaN</td>\n",
       "      <td>NaN</td>\n",
       "      <td>NaN</td>\n",
       "      <td>NaN</td>\n",
       "      <td>NaN</td>\n",
       "      <td>NaN</td>\n",
       "      <td>7.692308</td>\n",
       "      <td>7.692308</td>\n",
       "      <td>NaN</td>\n",
       "      <td>7.692308</td>\n",
       "      <td>NaN</td>\n",
       "      <td>NaN</td>\n",
       "      <td>23.076923</td>\n",
       "      <td>NaN</td>\n",
       "      <td>NaN</td>\n",
       "      <td>NaN</td>\n",
       "      <td>7.692308</td>\n",
       "      <td>7.692308</td>\n",
       "      <td>NaN</td>\n",
       "      <td>38.461538</td>\n",
       "      <td>13.0</td>\n",
       "    </tr>\n",
       "    <tr>\n",
       "      <th>1</th>\n",
       "      <td>Abdul Samad, Shofiyaa</td>\n",
       "      <td>LaGuardia CC</td>\n",
       "      <td>female</td>\n",
       "      <td>Business</td>\n",
       "      <td>4.637681</td>\n",
       "      <td>1.521739</td>\n",
       "      <td>NaN</td>\n",
       "      <td>4.255319</td>\n",
       "      <td>NaN</td>\n",
       "      <td>21.985816</td>\n",
       "      <td>4.964539</td>\n",
       "      <td>NaN</td>\n",
       "      <td>NaN</td>\n",
       "      <td>19.148936</td>\n",
       "      <td>1.418440</td>\n",
       "      <td>NaN</td>\n",
       "      <td>4.255319</td>\n",
       "      <td>16.312057</td>\n",
       "      <td>NaN</td>\n",
       "      <td>NaN</td>\n",
       "      <td>6.382979</td>\n",
       "      <td>18.439716</td>\n",
       "      <td>2.127660</td>\n",
       "      <td>NaN</td>\n",
       "      <td>NaN</td>\n",
       "      <td>0.709220</td>\n",
       "      <td>141.0</td>\n",
       "    </tr>\n",
       "    <tr>\n",
       "      <th>2</th>\n",
       "      <td>Aceto, John</td>\n",
       "      <td>LaGuardia CC</td>\n",
       "      <td>male</td>\n",
       "      <td>English</td>\n",
       "      <td>4.284810</td>\n",
       "      <td>3.341772</td>\n",
       "      <td>2.325581</td>\n",
       "      <td>23.255814</td>\n",
       "      <td>NaN</td>\n",
       "      <td>NaN</td>\n",
       "      <td>2.325581</td>\n",
       "      <td>2.325581</td>\n",
       "      <td>13.953488</td>\n",
       "      <td>6.976744</td>\n",
       "      <td>NaN</td>\n",
       "      <td>NaN</td>\n",
       "      <td>23.255814</td>\n",
       "      <td>13.953488</td>\n",
       "      <td>NaN</td>\n",
       "      <td>NaN</td>\n",
       "      <td>4.651163</td>\n",
       "      <td>NaN</td>\n",
       "      <td>2.325581</td>\n",
       "      <td>NaN</td>\n",
       "      <td>NaN</td>\n",
       "      <td>4.651163</td>\n",
       "      <td>43.0</td>\n",
       "    </tr>\n",
       "    <tr>\n",
       "      <th>3</th>\n",
       "      <td>Adamou, Nikolaos</td>\n",
       "      <td>Borough of Manhattan CC</td>\n",
       "      <td>male</td>\n",
       "      <td>Business</td>\n",
       "      <td>4.066667</td>\n",
       "      <td>2.658333</td>\n",
       "      <td>2.380952</td>\n",
       "      <td>9.523810</td>\n",
       "      <td>NaN</td>\n",
       "      <td>10.714286</td>\n",
       "      <td>2.380952</td>\n",
       "      <td>NaN</td>\n",
       "      <td>5.952381</td>\n",
       "      <td>5.952381</td>\n",
       "      <td>1.190476</td>\n",
       "      <td>NaN</td>\n",
       "      <td>4.761905</td>\n",
       "      <td>16.666667</td>\n",
       "      <td>1.190476</td>\n",
       "      <td>3.571429</td>\n",
       "      <td>5.952381</td>\n",
       "      <td>13.095238</td>\n",
       "      <td>10.714286</td>\n",
       "      <td>1.190476</td>\n",
       "      <td>1.190476</td>\n",
       "      <td>3.571429</td>\n",
       "      <td>84.0</td>\n",
       "    </tr>\n",
       "    <tr>\n",
       "      <th>4</th>\n",
       "      <td>Adel, Kira</td>\n",
       "      <td>Nassau CC</td>\n",
       "      <td>female</td>\n",
       "      <td>Mathematics</td>\n",
       "      <td>4.844828</td>\n",
       "      <td>2.155172</td>\n",
       "      <td>1.694915</td>\n",
       "      <td>10.169492</td>\n",
       "      <td>NaN</td>\n",
       "      <td>20.338983</td>\n",
       "      <td>11.864407</td>\n",
       "      <td>NaN</td>\n",
       "      <td>NaN</td>\n",
       "      <td>22.033898</td>\n",
       "      <td>NaN</td>\n",
       "      <td>NaN</td>\n",
       "      <td>1.694915</td>\n",
       "      <td>5.084746</td>\n",
       "      <td>NaN</td>\n",
       "      <td>6.779661</td>\n",
       "      <td>NaN</td>\n",
       "      <td>11.864407</td>\n",
       "      <td>6.779661</td>\n",
       "      <td>NaN</td>\n",
       "      <td>1.694915</td>\n",
       "      <td>NaN</td>\n",
       "      <td>59.0</td>\n",
       "    </tr>\n",
       "  </tbody>\n",
       "</table>\n",
       "</div>"
      ],
      "text/plain": [
       "                    name                   school     sex   department  \\\n",
       "0         Abdoo, Sherlyn             LaGuardia CC  female      English   \n",
       "1  Abdul Samad, Shofiyaa             LaGuardia CC  female     Business   \n",
       "2            Aceto, John             LaGuardia CC    male      English   \n",
       "3       Adamou, Nikolaos  Borough of Manhattan CC    male     Business   \n",
       "4             Adel, Kira                Nassau CC  female  Mathematics   \n",
       "\n",
       "   overall_score_mean  difficulty_score_mean  Accessible Outside Class  \\\n",
       "0            2.564815               4.444444                       NaN   \n",
       "1            4.637681               1.521739                       NaN   \n",
       "2            4.284810               3.341772                  2.325581   \n",
       "3            4.066667               2.658333                  2.380952   \n",
       "4            4.844828               2.155172                  1.694915   \n",
       "\n",
       "   Amazing Lectures  Beware Of Pop Quizzes     Caring  Clear Grading Criteria  \\\n",
       "0               NaN                    NaN        NaN                     NaN   \n",
       "1          4.255319                    NaN  21.985816                4.964539   \n",
       "2         23.255814                    NaN        NaN                2.325581   \n",
       "3          9.523810                    NaN  10.714286                2.380952   \n",
       "4         10.169492                    NaN  20.338983               11.864407   \n",
       "\n",
       "   Extra Credit  Get Ready To Read  Gives Good Feedback  Graded By Few Things  \\\n",
       "0           NaN           7.692308             7.692308                   NaN   \n",
       "1           NaN                NaN            19.148936              1.418440   \n",
       "2      2.325581          13.953488             6.976744                   NaN   \n",
       "3           NaN           5.952381             5.952381              1.190476   \n",
       "4           NaN                NaN            22.033898                   NaN   \n",
       "\n",
       "   Group Projects  Hilarious  Inspirational  Lecture Heavy  Lots Of Homework  \\\n",
       "0        7.692308        NaN            NaN      23.076923               NaN   \n",
       "1             NaN   4.255319      16.312057            NaN               NaN   \n",
       "2             NaN  23.255814      13.953488            NaN               NaN   \n",
       "3             NaN   4.761905      16.666667       1.190476          3.571429   \n",
       "4             NaN   1.694915       5.084746            NaN          6.779661   \n",
       "\n",
       "   Participation Matters  Respected  Skip Class You WonT Pass  So Many Papers  \\\n",
       "0                    NaN        NaN                  7.692308        7.692308   \n",
       "1               6.382979  18.439716                  2.127660             NaN   \n",
       "2               4.651163        NaN                  2.325581             NaN   \n",
       "3               5.952381  13.095238                 10.714286        1.190476   \n",
       "4                    NaN  11.864407                  6.779661             NaN   \n",
       "\n",
       "   Test Heavy  Tough Grader  total_tags  \n",
       "0         NaN     38.461538        13.0  \n",
       "1         NaN      0.709220       141.0  \n",
       "2         NaN      4.651163        43.0  \n",
       "3    1.190476      3.571429        84.0  \n",
       "4    1.694915           NaN        59.0  "
      ]
     },
     "execution_count": 18,
     "metadata": {},
     "output_type": "execute_result"
    }
   ],
   "source": [
    "grouped.head()"
   ]
  },
  {
   "cell_type": "code",
   "execution_count": null,
   "metadata": {
    "collapsed": true
   },
   "outputs": [],
   "source": [
    "final.to_csv(\"profs.csv\")\n",
    "grouped.to_csv(\"grouped_profs.csv\")"
   ]
  }
 ],
 "metadata": {
  "kernelspec": {
   "display_name": "Python 3",
   "language": "python",
   "name": "python3"
  },
  "language_info": {
   "codemirror_mode": {
    "name": "ipython",
    "version": 3
   },
   "file_extension": ".py",
   "mimetype": "text/x-python",
   "name": "python",
   "nbconvert_exporter": "python",
   "pygments_lexer": "ipython3",
   "version": "3.6.1"
  }
 },
 "nbformat": 4,
 "nbformat_minor": 2
}
